{
 "cells": [
  {
   "cell_type": "markdown",
   "metadata": {},
   "source": [
    "# Semi-Supervised Learning for Document Classification"
   ]
  },
  {
   "cell_type": "code",
   "execution_count": 1,
   "metadata": {},
   "outputs": [],
   "source": [
    "# general imports\n",
    "import pickle\n",
    "import numpy as np\n",
    "import pandas as pd\n",
    "import nltk\n",
    "import re\n",
    "from scipy import sparse"
   ]
  },
  {
   "cell_type": "code",
   "execution_count": 2,
   "metadata": {},
   "outputs": [],
   "source": [
    "# visualization imports\n",
    "import matplotlib.pyplot as plt\n",
    "import seaborn as sns"
   ]
  },
  {
   "cell_type": "code",
   "execution_count": 3,
   "metadata": {},
   "outputs": [
    {
     "name": "stderr",
     "output_type": "stream",
     "text": [
      "Using TensorFlow backend.\n"
     ]
    }
   ],
   "source": [
    "# deep learning frameworks\n",
    "import keras.backend as K\n",
    "import tensorflow as tf"
   ]
  },
  {
   "cell_type": "code",
   "execution_count": 4,
   "metadata": {},
   "outputs": [
    {
     "name": "stdout",
     "output_type": "stream",
     "text": [
      "[nltk_data] Downloading package punkt to /home/omar/nltk_data...\n",
      "[nltk_data]   Package punkt is already up-to-date!\n"
     ]
    }
   ],
   "source": [
    "# nlp processing methods\n",
    "nltk.download('punkt')\n",
    "from nltk.corpus import stopwords\n",
    "from nltk.stem.porter import *\n",
    "from sklearn.feature_extraction.text import TfidfVectorizer"
   ]
  },
  {
   "cell_type": "code",
   "execution_count": 5,
   "metadata": {},
   "outputs": [],
   "source": [
    "# performance evaluation and dataset processing imports\n",
    "from sklearn.metrics import confusion_matrix,classification_report\n",
    "from sklearn.model_selection import train_test_split"
   ]
  },
  {
   "cell_type": "code",
   "execution_count": 6,
   "metadata": {},
   "outputs": [],
   "source": [
    "# keras layers used to build models\n",
    "from keras.layers import Activation,Dense\n",
    "from keras.layers import Dropout,BatchNormalization,Reshape\n",
    "from keras.layers import Input,Flatten,Lambda,Concatenate\n",
    "from keras.regularizers import l2\n",
    "from keras.models import Model\n",
    "from keras.losses import mse,categorical_crossentropy"
   ]
  },
  {
   "cell_type": "code",
   "execution_count": 7,
   "metadata": {},
   "outputs": [],
   "source": [
    "# utilities used for training keras models\n",
    "from keras.utils import to_categorical\n",
    "from keras.callbacks import ModelCheckpoint,EarlyStopping"
   ]
  },
  {
   "cell_type": "markdown",
   "metadata": {},
   "source": [
    "## Loading Articles"
   ]
  },
  {
   "cell_type": "markdown",
   "metadata": {},
   "source": [
    "The first step is to load the preprocessed text in the script in data directory. <br>\n",
    "The cleaning steps of the text are as follows : <br>\n",
    "1. convert text of each document to lower case\n",
    "2. keep all digits/characters of the document (i.e remove all non ascii readable characters)\n",
    "3. remove punctuation\n",
    "4. remove stop words\n",
    "5. build TF-IDF matrix out of the text vocabulary\n",
    "<br>\n",
    "\n",
    "The processing steps are done to increase the frequency of words when applying lower case , then removing all un-necessary tokens such as stop words and punctuation. <br>\n",
    "\n",
    "The descion of using a tf-idf matrix instead of bag of words as it gives a more dense representation of the text and takes into account the frequency of the tokens accross documents and within the document.<br> "
   ]
  },
  {
   "cell_type": "code",
   "execution_count": null,
   "metadata": {},
   "outputs": [],
   "source": [
    "# load dictionary mapping each category to a list of articles\n",
    "with open('corpus.pickle', 'rb') as handle:\n",
    "    corpus = pickle.load(handle)"
   ]
  },
  {
   "cell_type": "code",
   "execution_count": null,
   "metadata": {},
   "outputs": [],
   "source": [
    "stemmer = PorterStemmer()"
   ]
  },
  {
   "cell_type": "code",
   "execution_count": null,
   "metadata": {},
   "outputs": [],
   "source": [
    "def tokenize_stem_document_sentences(sentences):\n",
    "    \n",
    "    '''\n",
    "    :params sentences : a list having each sentence of a document\n",
    "    \n",
    "    : returns: a list of lists having for each sentence in a document the corresponding tokens\n",
    "    '''\n",
    "    \n",
    "    def get_sentence_tokens(sentence):\n",
    "        try:\n",
    "            tokens = nltk.word_tokenize(sentence)\n",
    "            stemmed = [stemmer.stem(token) for token in tokens]\n",
    "            return stemmed\n",
    "        except: # usually raised for non decodable bytes\n",
    "            return ''\n",
    "            \n",
    "    return list(map(lambda x : get_sentence_tokens(x),sentences))"
   ]
  },
  {
   "cell_type": "code",
   "execution_count": null,
   "metadata": {},
   "outputs": [],
   "source": [
    "def data_cleaning(documents):\n",
    "    \n",
    "    '''\n",
    "    :param documents: a list of strings having the articles of a category\n",
    "    : returns : a cleaned version of the text\n",
    "    '''\n",
    "    \n",
    "    str_docs = list(map(lambda x: x.encode('utf-8'),documents)) # encode articles from unicode to string\n",
    "    str_lower = list(map(lambda x:x.lower(),str_docs)) # convert all sentences of the documents to lower case\n",
    "    \n",
    "    doc_lines = list(map(lambda x: x.split('\\n'),str_lower)) # split by line\n",
    "    doc_lines = list(filter(lambda x : x!='',doc_lines)) # remove empty lines\n",
    "    # remove all non characters from text\n",
    "    regex = re.compile('^[a-zA-Z_ ]*')\n",
    "    doc_cleaned = list(map(lambda doc : map(lambda sent : regex.sub('',sent),doc),doc_lines)) \n",
    "    \n",
    "    # here str_docs is a list of documents and each entry is a list of sentences\n",
    "    doc_tokens = list(map(lambda x: tokenize_stem_document_sentences(x),doc_cleaned))\n",
    "    # combine tokens of all sentences of one document into one list\n",
    "    doc_tokens = list(map(lambda doc_list : [y for x in doc_list for y in x],doc_tokens))\n",
    "    \n",
    "    ## removing punctuation\n",
    "    regex = re.compile(r'[^\\w\\s]')\n",
    "    doc_non_punct = list(map(lambda token_list: list(map(lambda token : regex.sub('',token),token_list)),doc_tokens))\n",
    "    # keep non empty tokens\n",
    "    doc_non_punct = list(map(lambda token_list : list(filter(lambda token : token!='',token_list)),doc_non_punct))\n",
    "    \n",
    "    \n",
    "    stop_words =  set(stopwords.words('english'))\n",
    "    \n",
    "    doc_fully_cleaned = list(map(lambda token_list : [word for word in token_list if word not in stop_words],doc_non_punct))\n",
    "    # combine all tokens into one sentence\n",
    "    doc_fully_cleaned = list(map(lambda token_list : ' '.join(token_list),doc_fully_cleaned))\n",
    "    return doc_fully_cleaned"
   ]
  },
  {
   "cell_type": "code",
   "execution_count": null,
   "metadata": {},
   "outputs": [],
   "source": [
    "all_corpuses_cleaned = []\n",
    "data_labels = []\n",
    "# apply cleaned for all articles of each category \n",
    "for counter, value in enumerate(corpus.keys()[:2]):\n",
    "    cleaned_text = data_cleaning(corpus[value])\n",
    "    all_corpuses_cleaned = all_corpuses_cleaned + cleaned_text\n",
    "    data_labels.append(np.full(len(cleaned_text),counter))"
   ]
  },
  {
   "cell_type": "code",
   "execution_count": null,
   "metadata": {},
   "outputs": [],
   "source": [
    "data_labels = np.concatenate(data_labels)"
   ]
  },
  {
   "cell_type": "code",
   "execution_count": null,
   "metadata": {},
   "outputs": [],
   "source": [
    "# saves constructed data to pickles\n",
    "with open('cleaned_text.pickle','wb') as handle:\n",
    "    pickle.dump(all_corpuses_cleaned,handle,protocol=2)\n",
    "with open('cleaned_targets.pickle','wb') as handle:\n",
    "    pickle.dump(data_labels,handle,protocol=2)"
   ]
  },
  {
   "cell_type": "code",
   "execution_count": 8,
   "metadata": {},
   "outputs": [],
   "source": [
    "# loads saved data from pickles\n",
    "with open('cleaned_text.pickle','rb') as handle:\n",
    "    all_corpuses_cleaned = pickle.load(handle)\n",
    "with open('cleaned_targets.pickle','rb') as handle:\n",
    "    data_labels = pickle.load(handle)"
   ]
  },
  {
   "cell_type": "markdown",
   "metadata": {},
   "source": [
    "### Building the Dataset"
   ]
  },
  {
   "cell_type": "code",
   "execution_count": 9,
   "metadata": {},
   "outputs": [],
   "source": [
    "def build_dataset(mode='unlabled',points_to_keep=100):\n",
    "    \n",
    "    \n",
    "    # build tf-idf matrix from all documents\n",
    "    vectorizer = TfidfVectorizer()\n",
    "    text_data = vectorizer.fit_transform(all_corpuses_cleaned)\n",
    "\n",
    "    # first we apply a train-test split\n",
    "    X_train,X_test,y_train,y_test = train_test_split(text_data,data_labels,test_size=0.2,random_state=42)\n",
    "\n",
    "    if mode == 'unlabled':\n",
    "        \n",
    "        labeled_set,labeled_targets = [],[]\n",
    "        unlabled_set = []\n",
    "\n",
    "        for targ_label in np.unique(y_train): # iterate over all possible labels\n",
    "\n",
    "            # subset the data to be kept as labled and keep other points as unlabled\n",
    "            subset_data = X_train[np.where(y_train==targ_label)[0]]\n",
    "            labeled_indx = np.random.choice(subset_data.shape[0],points_to_keep)\n",
    "            mask = np.zeros(subset_data.shape[0],dtype=bool)\n",
    "            mask[labeled_indx] = True\n",
    "            labeled_subset = subset_data.tocsr()[mask]\n",
    "            unlabled_subset = subset_data.tocsr()[~mask]\n",
    "\n",
    "            labeled_set.append(labeled_subset)\n",
    "            labeled_targets.append(np.full(labeled_subset.shape[0],targ_label))\n",
    "            unlabled_set.append(unlabled_subset)\n",
    "\n",
    "        labeled_set,unlabled_set = sparse.vstack(labeled_set),sparse.vstack(unlabled_set)\n",
    "        labeled_targets = np.concatenate(labeled_targets)\n",
    "        # apply train-validation split on labled points\n",
    "        X_train,X_valid,y_train,y_valid = train_test_split(labeled_set,labeled_targets,test_size=0.2,random_state=42)\n",
    "    \n",
    "    else:\n",
    "        X_train,X_valid,y_train,y_valid = train_test_split(X_train,y_train,test_size=0.2,random_state=42)\n",
    "    \n",
    "    # convert target lables to one hot encodings\n",
    "    y_train_categ = to_categorical(y_train)\n",
    "    y_valid_categ = to_categorical(y_valid)\n",
    "\n",
    "    if mode == 'unlabled':\n",
    "        # if unlabled return extra points\n",
    "        return (X_train,X_valid,X_test,unlabled_set),(y_train_categ,y_valid_categ,y_test)\n",
    "    else:\n",
    "        return (X_train,X_valid,X_test),(y_train_categ,y_valid_categ,y_test)"
   ]
  },
  {
   "cell_type": "markdown",
   "metadata": {},
   "source": [
    "### Visualization "
   ]
  },
  {
   "cell_type": "code",
   "execution_count": 10,
   "metadata": {},
   "outputs": [],
   "source": [
    "def plot_metric(metric_results_train,metric_results_valid,metric_name):\n",
    "    \n",
    "    '''\n",
    "    :param metric_results_train : a list having train values of a specific metric\n",
    "    :param metric_results_valid : a list having validation values of a specific metric\n",
    "    :param metric_name : the metric to be plotted\n",
    "    \n",
    "    This function mainly plots a metric tracked along training or validation ; for example : loss,accuracy\n",
    "    '''\n",
    "    \n",
    "    epochs = range(0,len(metric_results_train))\n",
    "    plt.figure(figsize=(10,5))\n",
    "    plt.plot(epochs,metric_results_train,'ro',label='Training ' + metric_name)\n",
    "    plt.plot(epochs,metric_results_valid,'bo',label='Validation ' + metric_name)\n",
    "    plt.grid()\n",
    "    plt.legend()\n",
    "    plt.plot()"
   ]
  },
  {
   "cell_type": "code",
   "execution_count": 11,
   "metadata": {},
   "outputs": [],
   "source": [
    "def plot_confusion_matrix(confusion_matrix, class_names, figsize = (10,7), fontsize=14):\n",
    "    \n",
    "    '''\n",
    "    :param confusion_matrix : a matrix having the predictions per class\n",
    "    :param class_names : a list having the class labels\n",
    "    \n",
    "    This function plots the confusion matrix as a heatmap\n",
    "    '''\n",
    "\n",
    "    df_cm = pd.DataFrame(confusion_matrix, index=class_names, columns=class_names)\n",
    "    fig = plt.figure(figsize=figsize)\n",
    "    heatmap = sns.heatmap(df_cm, annot=True, fmt=\"d\")\n",
    "    heatmap.yaxis.set_ticklabels(heatmap.yaxis.get_ticklabels(), rotation=0, ha='right', fontsize=fontsize)\n",
    "    heatmap.xaxis.set_ticklabels(heatmap.xaxis.get_ticklabels(), rotation=45, ha='right', fontsize=fontsize)\n",
    "    plt.ylabel('True label')\n",
    "    plt.xlabel('Predicted label')\n",
    "    plt.show()"
   ]
  },
  {
   "cell_type": "markdown",
   "metadata": {},
   "source": [
    "### Basic Classifier"
   ]
  },
  {
   "cell_type": "code",
   "execution_count": 12,
   "metadata": {},
   "outputs": [],
   "source": [
    "(X_train,X_valid,X_test),(y_train_categ,y_valid_categ,y_test) = build_dataset(mode='labeled') "
   ]
  },
  {
   "cell_type": "code",
   "execution_count": 13,
   "metadata": {},
   "outputs": [],
   "source": [
    "tokens_dim = X_train.shape[1]\n",
    "num_cls = y_train_categ.shape[1]"
   ]
  },
  {
   "cell_type": "code",
   "execution_count": 14,
   "metadata": {},
   "outputs": [],
   "source": [
    "def build_classifier(include_probas=True):\n",
    "    \n",
    "    input_vec = Input(shape=(tokens_dim,))\n",
    "    dropout_rate = 0.4\n",
    "    \n",
    "    \n",
    "    ############# first block ########################\n",
    "    conv_one  = Dense(512,activation='relu',kernel_initializer='glorot_uniform')(input_vec)\n",
    "    drop_one  = Dropout(dropout_rate)(conv_one)\n",
    "    bn_one    = BatchNormalization()(drop_one)\n",
    "    \n",
    "    ############# second block ########################\n",
    "    conv_two  = Dense(128,activation='relu',kernel_initializer='glorot_uniform')(bn_one)\n",
    "    drop_two  = Dropout(dropout_rate)(conv_two)\n",
    "    bn_two    = BatchNormalization()(drop_two)\n",
    "    \n",
    "    \n",
    "    ########### first cls block ##################\n",
    "    fc_layer_first = Dense(64,kernel_regularizer=l2(0.2),bias_regularizer=l2(0.2),activation='relu')(bn_two)\n",
    "    dp_layer_first = Dropout(dropout_rate)(fc_layer_first)\n",
    "    bn_layer_first = BatchNormalization()(dp_layer_first)\n",
    "    \n",
    "    logits = Dense(num_cls,activation='linear')(bn_layer_first)\n",
    "    \n",
    "    if include_probas:\n",
    "        proba = Activation('softmax')(logits)\n",
    "        return Model(input_vec,proba,name='classifier')    \n",
    "    else:\n",
    "        return Model(input_vec,logits,name='classifier')"
   ]
  },
  {
   "cell_type": "code",
   "execution_count": 15,
   "metadata": {},
   "outputs": [
    {
     "name": "stdout",
     "output_type": "stream",
     "text": [
      "WARNING:tensorflow:From /home/omar/anaconda2/lib/python2.7/site-packages/tensorflow/python/framework/op_def_library.py:263: colocate_with (from tensorflow.python.framework.ops) is deprecated and will be removed in a future version.\n",
      "Instructions for updating:\n",
      "Colocations handled automatically by placer.\n",
      "WARNING:tensorflow:From /home/omar/anaconda2/lib/python2.7/site-packages/keras/backend/tensorflow_backend.py:3445: calling dropout (from tensorflow.python.ops.nn_ops) with keep_prob is deprecated and will be removed in a future version.\n",
      "Instructions for updating:\n",
      "Please use `rate` instead of `keep_prob`. Rate should be set to `rate = 1 - keep_prob`.\n",
      "_________________________________________________________________\n",
      "Layer (type)                 Output Shape              Param #   \n",
      "=================================================================\n",
      "input_1 (InputLayer)         (None, 82275)             0         \n",
      "_________________________________________________________________\n",
      "dense_1 (Dense)              (None, 512)               42125312  \n",
      "_________________________________________________________________\n",
      "dropout_1 (Dropout)          (None, 512)               0         \n",
      "_________________________________________________________________\n",
      "batch_normalization_1 (Batch (None, 512)               2048      \n",
      "_________________________________________________________________\n",
      "dense_2 (Dense)              (None, 128)               65664     \n",
      "_________________________________________________________________\n",
      "dropout_2 (Dropout)          (None, 128)               0         \n",
      "_________________________________________________________________\n",
      "batch_normalization_2 (Batch (None, 128)               512       \n",
      "_________________________________________________________________\n",
      "dense_3 (Dense)              (None, 64)                8256      \n",
      "_________________________________________________________________\n",
      "dropout_3 (Dropout)          (None, 64)                0         \n",
      "_________________________________________________________________\n",
      "batch_normalization_3 (Batch (None, 64)                256       \n",
      "_________________________________________________________________\n",
      "dense_4 (Dense)              (None, 2)                 130       \n",
      "_________________________________________________________________\n",
      "activation_1 (Activation)    (None, 2)                 0         \n",
      "=================================================================\n",
      "Total params: 42,202,178\n",
      "Trainable params: 42,200,770\n",
      "Non-trainable params: 1,408\n",
      "_________________________________________________________________\n"
     ]
    }
   ],
   "source": [
    "mdl = build_classifier()\n",
    "mdl.summary()"
   ]
  },
  {
   "cell_type": "code",
   "execution_count": 16,
   "metadata": {},
   "outputs": [
    {
     "name": "stdout",
     "output_type": "stream",
     "text": [
      "WARNING:tensorflow:From /home/omar/anaconda2/lib/python2.7/site-packages/tensorflow/python/ops/math_ops.py:3066: to_int32 (from tensorflow.python.ops.math_ops) is deprecated and will be removed in a future version.\n",
      "Instructions for updating:\n",
      "Use tf.cast instead.\n"
     ]
    }
   ],
   "source": [
    "# train model\n",
    "mdl = build_classifier()\n",
    "mdl.compile(loss='categorical_crossentropy',optimizer='adam',metrics=['accuracy'])\n",
    "\n",
    "checkpoint = ModelCheckpoint('mdl_bst_wts.hdf5', monitor='val_loss',save_best_only=True)\n",
    "es = EarlyStopping(monitor='val_loss',patience=20)\n",
    "\n",
    "history = mdl.fit(X_train,y_train_categ,\n",
    "                  batch_size=256,epochs=100,\n",
    "                  validation_data=(X_valid,y_valid_categ),\n",
    "                  callbacks=[es,checkpoint],\n",
    "                  verbose=0\n",
    "                 )"
   ]
  },
  {
   "cell_type": "code",
   "execution_count": 17,
   "metadata": {},
   "outputs": [
    {
     "data": {
      "image/png": "[encoded data removed]",
      "text/plain": [
       "<Figure size 720x360 with 1 Axes>"
      ]
     },
     "metadata": {},
     "output_type": "display_data"
    },
    {
     "data": {
      "image/png": "[encoded data removed]",
      "text/plain": [
       "<Figure size 720x360 with 1 Axes>"
      ]
     },
     "metadata": {},
     "output_type": "display_data"
    }
   ],
   "source": [
    "# plot accuracy and loss\n",
    "plot_metric(history.history['loss'],history.history['val_loss'],'Loss')\n",
    "plot_metric(history.history['acc'],history.history['val_acc'],'Accuracy')"
   ]
  },
  {
   "cell_type": "code",
   "execution_count": 18,
   "metadata": {},
   "outputs": [],
   "source": [
    "# evaluate on test set\n",
    "test_proba = mdl.predict(X_test)\n",
    "test_pred_labels = np.argmax(test_proba,axis=1)"
   ]
  },
  {
   "cell_type": "code",
   "execution_count": 19,
   "metadata": {},
   "outputs": [
    {
     "data": {
      "image/png": "[encoded data removed]",
      "text/plain": [
       "<Figure size 720x504 with 2 Axes>"
      ]
     },
     "metadata": {},
     "output_type": "display_data"
    }
   ],
   "source": [
    "test_conf_mtrx = confusion_matrix(y_test,test_pred_labels)\n",
    "plot_confusion_matrix(test_conf_mtrx,range(0,num_cls))"
   ]
  },
  {
   "cell_type": "markdown",
   "metadata": {},
   "source": [
    "### Pseudo Labeling"
   ]
  },
  {
   "cell_type": "markdown",
   "metadata": {},
   "source": [
    "Pseudo Labeling is one of the first methods used in semi supervised learning. <br>\n",
    "It is classified under the field of self learning. The whole objective behind it is to augment the unlabled data points in the training procedure as soon as the classifier is confident on the samples. <br>\n",
    "So basically if the probability emitted by the classifier on an unlabled sample crosses a threshold, this sample is added to the training data with the class label having the maximum probability."
   ]
  },
  {
   "cell_type": "code",
   "execution_count": 21,
   "metadata": {},
   "outputs": [],
   "source": [
    "# use same classification model as before\n",
    "ps_mdl = build_classifier()\n",
    "ps_mdl.compile(loss='categorical_crossentropy',optimizer='adam',metrics=['accuracy'])"
   ]
  },
  {
   "cell_type": "code",
   "execution_count": 22,
   "metadata": {},
   "outputs": [],
   "source": [
    "epoch_nb = 100\n",
    "batch_size = 50"
   ]
  },
  {
   "cell_type": "code",
   "execution_count": 23,
   "metadata": {},
   "outputs": [],
   "source": [
    "# build unlabled dataset\n",
    "(X_train,X_valid,X_test,X_un),(y_train_categ,y_valid_categ,y_test) = build_dataset()"
   ]
  },
  {
   "cell_type": "code",
   "execution_count": 24,
   "metadata": {},
   "outputs": [],
   "source": [
    "def get_train_batch(X,y,aug_samples,aug_labels):\n",
    "    \n",
    "    '''\n",
    "    :param X: a matrix having the labled training data\n",
    "    :param y: a numpy array having the class lables\n",
    "    :param aug_samples : a list having the highly confident samples\n",
    "    :param aug_labels : a list having the the labels of the coressponding samples to be augmented\n",
    "    \n",
    "    : returns the data and its corresponding labels in batch size\n",
    "    '''\n",
    "    \n",
    "    if len(aug_samples)!=0:\n",
    "        X = sparse.vstack((X,sparse.vstack(aug_samples)))\n",
    "        y = np.vstack((y,np.concatenate(aug_labels)))\n",
    "    \n",
    "    for idx in range(0,X.shape[0],batch_size):\n",
    "        data = X[idx:(idx+batch_size)]\n",
    "        targ = y[idx:(idx + batch_size)]\n",
    "        \n",
    "        yield data,targ"
   ]
  },
  {
   "cell_type": "code",
   "execution_count": 25,
   "metadata": {},
   "outputs": [],
   "source": [
    "def convert_numpy_one_hot(values,num_cls):\n",
    "    \n",
    "    '''\n",
    "    :param values : a list having the labels enumerated\n",
    "    :param num_cls : a list having total number of classes\n",
    "    \n",
    "    :returns : a one hot encoding of values list\n",
    "    \n",
    "    This function mainly serves the case where the augmented samples dont cover all of the classes\n",
    "    thus we need a fixed encoding\n",
    "    '''\n",
    "    \n",
    "    one_hot = np.zeros((values.shape[0],num_cls))\n",
    "    for i in range(0,values.shape[0]):\n",
    "        one_hot[i][int(values[i])] = 1\n",
    "    return one_hot"
   ]
  },
  {
   "cell_type": "code",
   "execution_count": 26,
   "metadata": {},
   "outputs": [],
   "source": [
    "aug_samples,aug_labels = [],[] # samples to be added to training\n",
    "\n",
    "train_loss,valid_loss = [],[]\n",
    "train_acc,valid_acc = [],[]\n",
    "\n",
    "eps = 0.9 # threshold to keep confident points\n",
    "\n",
    "for epoch in range(0,epoch_nb):\n",
    "    \n",
    "    batch_loss,batch_acc = [],[]\n",
    "    for batch_samples,batch_targets in get_train_batch(X_train,y_train_categ,aug_samples,aug_labels):\n",
    "            metric_train = ps_mdl.train_on_batch(batch_samples.todense(),batch_targets)\n",
    "            batch_loss.append(metric_train[0])\n",
    "            batch_acc.append(metric_train[1])\n",
    "            \n",
    "    \n",
    "    if X_un.shape[0]>0: # if unlabled data is still not empty \n",
    "        unlabled_preds = mdl.predict(X_un.todense()) # get probabilities per sample per class category\n",
    "        above_thresh_pts_indx = np.where(unlabled_preds > eps)[0] # keep points that are larger than the threshold\n",
    "        mask = np.zeros(unlabled_preds.shape[0],dtype=bool)\n",
    "        mask[above_thresh_pts_indx] = True\n",
    "        if epoch > 10: # give some time for classifier to learn\n",
    "            if above_thresh_pts_indx.shape[0]>0: # if the number of points to be augmented is non-zeros\n",
    "                aug_samples.append(X_un[mask])\n",
    "                aug_labels.append(convert_numpy_one_hot(np.argmax(unlabled_preds[above_thresh_pts_indx],axis=1),num_cls))\n",
    "                X_un = X_un[~mask] # remove augmented samples\n",
    "\n",
    "        \n",
    "    val_eval = ps_mdl.evaluate(X_valid,y_valid_categ,batch_size=batch_size,verbose=0)\n",
    "    train_loss.append(np.mean(batch_loss))\n",
    "    valid_loss.append(val_eval[0])\n",
    "    train_acc.append(np.mean(batch_acc))\n",
    "    valid_acc.append(val_eval[1])"
   ]
  },
  {
   "cell_type": "code",
   "execution_count": 27,
   "metadata": {},
   "outputs": [
    {
     "data": {
      "image/png": "[encoded data removed]",
      "text/plain": [
       "<Figure size 720x360 with 1 Axes>"
      ]
     },
     "metadata": {},
     "output_type": "display_data"
    },
    {
     "data": {
      "image/png": "[encoded data removed]",
      "text/plain": [
       "<Figure size 720x360 with 1 Axes>"
      ]
     },
     "metadata": {},
     "output_type": "display_data"
    }
   ],
   "source": [
    "# plot accuracy and loss\n",
    "plot_metric(train_loss,valid_loss,'Loss')\n",
    "plot_metric(train_acc,valid_acc,'Accuracy')"
   ]
  },
  {
   "cell_type": "code",
   "execution_count": 28,
   "metadata": {},
   "outputs": [],
   "source": [
    "# evaluate on test set\n",
    "test_proba = ps_mdl.predict(X_test)\n",
    "test_pred_labels = np.argmax(test_proba,axis=1)"
   ]
  },
  {
   "cell_type": "code",
   "execution_count": 29,
   "metadata": {},
   "outputs": [
    {
     "data": {
      "image/png": "[encoded data removed]",
      "text/plain": [
       "<Figure size 720x504 with 2 Axes>"
      ]
     },
     "metadata": {},
     "output_type": "display_data"
    }
   ],
   "source": [
    "test_conf_mtrx = confusion_matrix(y_test,test_pred_labels)\n",
    "plot_confusion_matrix(test_conf_mtrx,range(0,num_cls))"
   ]
  },
  {
   "cell_type": "code",
   "execution_count": null,
   "metadata": {},
   "outputs": [],
   "source": []
  },
  {
   "cell_type": "markdown",
   "metadata": {},
   "source": [
    "### Virtual Adversarial Training"
   ]
  },
  {
   "cell_type": "markdown",
   "metadata": {},
   "source": [
    "This method was presented in : <a href=\"https://arxiv.org/pdf/1605.07725.pdf\"> here </a> <br>\n",
    "\n",
    "The principle behind this method is to apply adversarial training on word embeddings in the semi-supervised case.The unlabled points are used in the objective to regularize the model. <br>\n",
    "\n",
    "The method proceeds as follows:\n",
    "1. the kl-divergence between the logits of the unlabled points and the perturbed unlabled points is computed (goal is to make them similar)\n",
    "2. the gradient then w.r.t the perturbed input is computed and is used as the next stage value for the perutrbation\n",
    "3. the procedure repeats untill the optimal perturbation is found\n",
    "4. the categorical cross entropy loss of the labled points is regularized with the kl of the logits of the unlabled points and their optimally perturbed versions is computed\n",
    "5. model is optimized w.r.t the new objective"
   ]
  },
  {
   "cell_type": "code",
   "execution_count": 30,
   "metadata": {},
   "outputs": [],
   "source": [
    "# build unlabled dataset\n",
    "(X_train,X_valid,X_test,X_un),(y_train_categ,y_valid_categ,y_test) = build_dataset()"
   ]
  },
  {
   "cell_type": "code",
   "execution_count": 31,
   "metadata": {},
   "outputs": [],
   "source": [
    "def l2_norm(tensor):\n",
    "    \n",
    "    # returns l2 norm of a tensor\n",
    "\n",
    "    dist = tf.square(tensor)\n",
    "    dist = tf.reduce_sum(dist)\n",
    "    dist = tf.sqrt(dist)\n",
    "\n",
    "    return dist"
   ]
  },
  {
   "cell_type": "code",
   "execution_count": 32,
   "metadata": {},
   "outputs": [],
   "source": [
    "def normalize_vec(vector):\n",
    "    \n",
    "    # normalizes a vector by dividing it by it's l2 norm\n",
    "    \n",
    "    norm_computed  = l2_norm(vector)\n",
    "    factor = K.minimum(1., vector/norm_computed )\n",
    "    return factor"
   ]
  },
  {
   "cell_type": "code",
   "execution_count": 33,
   "metadata": {},
   "outputs": [],
   "source": [
    "def logit_kl(q_logit, p_logit):\n",
    "    \n",
    "    '''\n",
    "    :param q_logit : logit of first tensor\n",
    "    :param p_logit : logit of second tensor\n",
    "    \n",
    "    :returns : kl divergence between the two logits\n",
    "    '''\n",
    "\n",
    "    q = K.softmax(q_logit,axis=1)\n",
    "    logq = tf.nn.log_softmax(q_logit,axis=1)\n",
    "    logp = tf.nn.log_softmax(p_logit,axis=1)\n",
    "\n",
    "    qlogq = tf.reduce_mean(tf.reduce_sum(q*logq,axis=1))\n",
    "    qlogp = tf.reduce_mean(tf.reduce_sum(q*logp,axis=1))\n",
    "\n",
    "    return qlogq - qlogp"
   ]
  },
  {
   "cell_type": "code",
   "execution_count": 34,
   "metadata": {},
   "outputs": [],
   "source": [
    "def generate_virtual_pert(cls_mdl,input_un,logits_un,eps=2,num_iters=2):\n",
    "    \n",
    "    '''\n",
    "    :param cls_mdl : classifier used to predict logits\n",
    "    :param input_un : a tensor having unlabled inputs\n",
    "    :param logits_un : the logits of unlabled points\n",
    "    :param eps : epsilon to scale perturbation with\n",
    "    :param num_iters : number of times to repeat in order to get perturbation\n",
    "    \n",
    "    :returns : vat loss to be added as a regularizer\n",
    "    '''\n",
    "    \n",
    "    d = K.random_normal(shape=(K.shape(input_un)[0],K.shape(input_un)[1])) # random gaussian\n",
    "    \n",
    "    for i in range(num_iters): # number of repetitions\n",
    "        \n",
    "        d = 1e-6 *normalize_vec(d) # normalized perturbation\n",
    "        # predict logits of perturbed input and try to make them similar\n",
    "        y_hat = cls_mdl(input_un + d) \n",
    "        delta_kl = logit_kl(logits_un,y_hat)\n",
    "        d = K.gradients(delta_kl,d)[0]\n",
    "\n",
    "    # scale optimal perturbation\n",
    "    d = normalize_vec(d)\n",
    "    r_adv = eps *d\n",
    "    y_hat = cls_mdl(input_un + r_adv)\n",
    "    delta_kl = logit_kl(logits_un, y_hat)\n",
    "    return delta_kl"
   ]
  },
  {
   "cell_type": "code",
   "execution_count": 35,
   "metadata": {},
   "outputs": [],
   "source": [
    "def get_train_batch(data,targets,unlabeled,batch_size=50,un_factor=6):\n",
    "    \n",
    "    '''\n",
    "    :param data : a list having labled training \n",
    "    :param targets: a list having targets of labled points\n",
    "    :param unlabled : a list of unlabled data points\n",
    "    \n",
    "    : returns : batches of training data both labled and unlabled\n",
    "    '''\n",
    "    \n",
    "    for idx in range(0,data.shape[0],batch_size):\n",
    "\n",
    "        data_ = data[idx:(idx+batch_size)]\n",
    "        targ = targets[idx:(idx + batch_size)]\n",
    "        un = unlabeled[(idx*un_factor):((idx + batch_size)*un_factor)]\n",
    "        \n",
    "        yield data_,targ,un"
   ]
  },
  {
   "cell_type": "code",
   "execution_count": 36,
   "metadata": {},
   "outputs": [],
   "source": [
    "def compute_softmax(logits):\n",
    "    \n",
    "    input_ = Input((num_cls,))\n",
    "    proba = Activation('softmax')(input_)\n",
    "    \n",
    "    with tf.Session() as sess:\n",
    "        proba_np = sess.run(proba,feed_dict={input_:logits})\n",
    "    return proba_np"
   ]
  },
  {
   "cell_type": "code",
   "execution_count": 37,
   "metadata": {},
   "outputs": [],
   "source": [
    "def train_vat(lambda_=0.1):\n",
    "    \n",
    "    # build model\n",
    "    cls_mdl = build_classifier(False)\n",
    "\n",
    "    input_labeled = Input(shape=(tokens_dim,))\n",
    "    input_unlabled = Input(shape=(tokens_dim,))\n",
    "    label_info = Input(shape=(num_cls,))\n",
    "    vat_mdl = Model([input_labeled,input_unlabled,label_info],cls_mdl(input_labeled))\n",
    "\n",
    "    # normal loss for classification\n",
    "    logits_labeled = cls_mdl(input_labeled)\n",
    "    labled_loss = K.mean(categorical_crossentropy(label_info,Activation('softmax')(logits_labeled)))\n",
    "    \n",
    "    # vat loss computed in generate_virtual_pert function\n",
    "    logits_unlabled = cls_mdl(input_unlabled)\n",
    "    vat_loss = K.mean(generate_virtual_pert(cls_mdl,input_unlabled,logits_unlabled))\n",
    "    \n",
    "    total_loss = labled_loss + lambda_ * vat_loss\n",
    "    vat_mdl.add_loss(total_loss)\n",
    "    \n",
    "    return vat_mdl"
   ]
  },
  {
   "cell_type": "code",
   "execution_count": 38,
   "metadata": {},
   "outputs": [],
   "source": [
    "vat_mdl = train_vat()\n",
    "vat_mdl.compile(optimizer='adam')"
   ]
  },
  {
   "cell_type": "code",
   "execution_count": 39,
   "metadata": {},
   "outputs": [],
   "source": [
    "train_loss,valid_loss = [],[]\n",
    "for epoch in range(0,100):\n",
    "    batch_loss = []\n",
    "    for batch_samples,batch_targets,batch_un in get_train_batch(X_train,y_train_categ,X_un):\n",
    "        metric_train = vat_mdl.train_on_batch([batch_samples.todense(),batch_un.todense(),batch_targets],None)\n",
    "        batch_loss.append(metric_train)\n",
    "    train_loss.append(np.mean(batch_loss))\n",
    "    \n",
    "    # validation\n",
    "    valid_loss.append(vat_mdl.evaluate([X_valid,X_valid,y_valid_categ],None,verbose=0))\n",
    "    "
   ]
  },
  {
   "cell_type": "code",
   "execution_count": 40,
   "metadata": {},
   "outputs": [
    {
     "data": {
      "image/png": "[encoded data removed]",
      "text/plain": [
       "<Figure size 720x360 with 1 Axes>"
      ]
     },
     "metadata": {},
     "output_type": "display_data"
    }
   ],
   "source": [
    "plot_metric(train_loss,valid_loss,'Loss')"
   ]
  },
  {
   "cell_type": "code",
   "execution_count": 41,
   "metadata": {},
   "outputs": [],
   "source": [
    "y_test_categ = to_categorical(y_test)"
   ]
  },
  {
   "cell_type": "code",
   "execution_count": 42,
   "metadata": {},
   "outputs": [],
   "source": [
    "test_logits = vat_mdl.predict([X_test,X_test,y_test_categ])\n",
    "test_proba = compute_softmax(test_logits)\n",
    "test_pred_labels = np.argmax(test_proba,axis=1)"
   ]
  },
  {
   "cell_type": "code",
   "execution_count": 43,
   "metadata": {},
   "outputs": [
    {
     "data": {
      "image/png": "[encoded data removed]",
      "text/plain": [
       "<Figure size 720x504 with 2 Axes>"
      ]
     },
     "metadata": {},
     "output_type": "display_data"
    }
   ],
   "source": [
    "test_conf_mtrx = confusion_matrix(y_test,test_pred_labels)\n",
    "plot_confusion_matrix(test_conf_mtrx,range(0,num_cls))"
   ]
  },
  {
   "cell_type": "markdown",
   "metadata": {},
   "source": [
    "### Stacked M1+M2 model"
   ]
  },
  {
   "cell_type": "markdown",
   "metadata": {},
   "source": [
    "This method refers to : <a href=\"https://papers.nips.cc/paper/5352-semi-supervised-learning-with-deep-generative-models.pdf\">here</a>\n",
    "\n",
    "<br>\n",
    "The idea behind it is to take advantage of Variational Autoencoders for semi supervised learning.\n",
    "The training procedure is as follows: \n",
    "1. Encode both labled and unlabled data points\n",
    "2. Classify both labled and unlabled points\n",
    "3. decode both abled and unlabled points\n",
    "4. optimization problem includes reconstruction and kl divergence losses for both types of data, However classification loss is added to the objective however reconstructions of unlabled points are scaled by the probabilites estimated by the classifier for unlabled points"
   ]
  },
  {
   "cell_type": "code",
   "execution_count": 44,
   "metadata": {},
   "outputs": [],
   "source": [
    "def reparimetrization_trick(mu,log_std):\n",
    "    \n",
    "    '''\n",
    "    :param mu : the estimated mean by vae of a gaussian distribution\n",
    "    :param log_std : the estimated log varaince by vae of a gaussian distribution\n",
    "    \n",
    "    :returns : the sampled points from a gaussian having mean = mu and std = exp(log_std)\n",
    "    '''\n",
    "    \n",
    "    def sampling(args):\n",
    "        \n",
    "        mu,log_std = args\n",
    "        batch = K.shape(mu)[0]\n",
    "        dim = K.int_shape(log_std)[1]\n",
    "        epsilon = K.random_normal(shape=(batch, dim))\n",
    "        # sampling applied by adding the mean to a random normal multiplied by the standard deviation\n",
    "        return mu + K.exp(0.5 * log_std) * epsilon\n",
    "    \n",
    "    return Lambda(sampling)([mu,log_std])"
   ]
  },
  {
   "cell_type": "code",
   "execution_count": 45,
   "metadata": {},
   "outputs": [],
   "source": [
    "def build_encoder():\n",
    "   \n",
    "    input_vec = Input(shape=(tokens_dim,))\n",
    "    dropout_rate = 0.4\n",
    "    \n",
    "    \n",
    "    ############# first block ########################\n",
    "    conv_one  = Dense(512,activation='relu',kernel_initializer='glorot_uniform')(input_vec)\n",
    "    drop_one  = Dropout(dropout_rate)(conv_one)\n",
    "    bn_one    = BatchNormalization()(drop_one)\n",
    "    \n",
    "    ############# second block ########################\n",
    "    conv_two  = Dense(128,activation='relu',kernel_initializer='glorot_uniform')(bn_one)\n",
    "    drop_two  = Dropout(dropout_rate)(conv_two)\n",
    "    bn_two    = BatchNormalization()(drop_two)\n",
    "    \n",
    "    \n",
    "    ########### first cls block ##################\n",
    "    fc_layer_first = Dense(64,kernel_regularizer=l2(0.2),bias_regularizer=l2(0.2),activation='relu')(bn_two)\n",
    "    dp_layer_first = Dropout(dropout_rate)(fc_layer_first)\n",
    "    bn_layer_first = BatchNormalization()(dp_layer_first)\n",
    "   \n",
    "    mu  = Dense(32,activation='linear')(bn_layer_first)\n",
    "    log_std = Dense(32,activation='linear')(bn_layer_first)\n",
    "    z = reparimetrization_trick(mu,log_std)\n",
    "    \n",
    "    return Model(input_vec,[z,mu,log_std],name='encoder')  "
   ]
  },
  {
   "cell_type": "code",
   "execution_count": 46,
   "metadata": {},
   "outputs": [],
   "source": [
    "def build_decoder():\n",
    "    \n",
    "    input_latent = Input(shape=(32 + num_cls,))\n",
    "    dropout_rate = 0.4\n",
    "    \n",
    "    \n",
    "    ############# first block ########################\n",
    "    conv_one  = Dense(64,activation='relu',kernel_initializer='glorot_uniform')(input_latent)\n",
    "    drop_one  = Dropout(dropout_rate)(conv_one)\n",
    "    bn_one    = BatchNormalization()(drop_one)\n",
    "    \n",
    "    ############# second block ########################\n",
    "    conv_two  = Dense(128,activation='relu',kernel_initializer='glorot_uniform')(bn_one)\n",
    "    drop_two  = Dropout(dropout_rate)(conv_two)\n",
    "    bn_two    = BatchNormalization()(drop_two)\n",
    "    \n",
    "    \n",
    "    ########### first cls block ##################\n",
    "    fc_layer_first = Dense(512,kernel_regularizer=l2(0.2),bias_regularizer=l2(0.2),activation='relu')(bn_two)\n",
    "    dp_layer_first = Dropout(dropout_rate)(fc_layer_first)\n",
    "    bn_layer_first = BatchNormalization()(dp_layer_first)\n",
    "   \n",
    "    reconst = Dense(tokens_dim,activation='relu')(bn_layer_first)\n",
    "    \n",
    "    return Model(input_latent,reconst,name='decoder')"
   ]
  },
  {
   "cell_type": "code",
   "execution_count": 47,
   "metadata": {},
   "outputs": [],
   "source": [
    "def get_train_batch(data,targets,unlabeled,batch_size=50,un_factor=6):\n",
    "    \n",
    "    '''\n",
    "    :param data : a list having labled training \n",
    "    :param targets: a list having targets of labled points\n",
    "    :param unlabled : a list of unlabled data points\n",
    "    \n",
    "    : returns : batches of training data both labled and unlabled\n",
    "    '''\n",
    "    \n",
    "    for idx in range(0,data.shape[0],batch_size):\n",
    "\n",
    "        data_ = data[idx:(idx+batch_size)]\n",
    "        targ = targets[idx:(idx + batch_size)]\n",
    "        un = unlabeled[(idx*un_factor):((idx + batch_size)*un_factor)]\n",
    "        \n",
    "        yield data_,targ,un"
   ]
  },
  {
   "cell_type": "code",
   "execution_count": 48,
   "metadata": {},
   "outputs": [],
   "source": [
    "def create_appending_list(x,pos,num_cls):\n",
    "    \n",
    "    '''\n",
    "    :param x: embedding of a value at a certain step\n",
    "    :param pos : position to add categorical of one\n",
    "    :param num_cls : denotes number of classes\n",
    "    \n",
    "    :returns a list having the embedding concatenated with a one hot encoding of that position\n",
    "    '''\n",
    "    \n",
    "    lst = [x]\n",
    "    for i in range(0,num_cls):\n",
    "        if i == pos:\n",
    "            lst.append(tf.ones_like(x)[:,0:1])\n",
    "        else:\n",
    "            lst.append(tf.zeros_like(x)[:,0:1])\n",
    "    return lst"
   ]
  },
  {
   "cell_type": "code",
   "execution_count": 49,
   "metadata": {},
   "outputs": [],
   "source": [
    "def build_m1_m2_model():\n",
    "    \n",
    "    # get models\n",
    "    enc_mdl,dec_mdl = build_encoder(),build_decoder()\n",
    "    cls_mdl = build_classifier()\n",
    "    \n",
    "    input_labeled   = Input(shape=(tokens_dim,))\n",
    "    input_unlabeled = Input(shape=(tokens_dim,))\n",
    "    label_info = Input(shape=(num_cls,))\n",
    "    \n",
    "    # encode labled and unlabled data\n",
    "    embed_labeled,mu_labeled,log_std_labeled  = enc_mdl(input_labeled)\n",
    "    embed_unlabled,mu_unlabeled,log_std_unlabeled = enc_mdl(input_unlabeled)\n",
    "    \n",
    "    # classify labled and unlabled data\n",
    "    y_pred_label   = cls_mdl(input_labeled)\n",
    "    y_pred_label = Lambda(lambda x:x,name='Classifier1')(y_pred_label)\n",
    "    y_pred_unlabel = cls_mdl(input_unlabeled)\n",
    "    y_pred_unlabel =  Lambda(lambda x:x,name='Classifier2')(y_pred_unlabel)\n",
    "    \n",
    "    # create one hot encodings of unlabled embeddings with all possible classess\n",
    "    merge_unlabled_vecs = []\n",
    "    for i in range(0,num_cls):\n",
    "        merged_vec = Lambda(lambda x : K.concatenate(create_appending_list(x,i,num_cls),axis=-1))(embed_unlabled)\n",
    "        merge_unlabled_vecs.append(merged_vec)\n",
    "    \n",
    "    \n",
    "    # decode labled data points concatenate with one hot encoding of their corresponding lables\n",
    "    merge_labeled_vecs = Concatenate()([embed_labeled,label_info])\n",
    "    label_reconst = dec_mdl(merge_labeled_vecs)\n",
    "    label_reconst = Lambda(lambda x:x,name='Autoencoder_Labeled')(label_reconst)\n",
    "    \n",
    "    # decode all possible reconstructions of unlabled data points\n",
    "    unlabel_reconst_vecs = []\n",
    "    for i in range(0,num_cls):\n",
    "        reconst_per_label = dec_mdl(merge_unlabled_vecs[i])\n",
    "        reconst_per_label = Lambda(lambda x:x,name='Autoencoder' + str(i))(reconst_per_label)\n",
    "        unlabel_reconst_vecs.append(reconst_per_label)\n",
    "    \n",
    "    \n",
    "    # build the model\n",
    "    mdl = Model([input_labeled,input_unlabeled,label_info],[y_pred_label,y_pred_unlabel,label_reconst] + unlabel_reconst_vecs)\n",
    "    \n",
    "    \n",
    "    # labled data points have both the autoencoder loss and the classification loss\n",
    "    autoencoder_labeled_loss = K.mean(mse(K.batch_flatten(label_reconst),K.batch_flatten(input_labeled)) + (-0.5 * K.sum(1 + log_std_labeled - K.square(mu_labeled) - K.exp(log_std_labeled),axis=-1)))\n",
    "    classification_loss = K.mean(categorical_crossentropy(label_info,y_pred_label))\n",
    "   \n",
    "    # unlabled points have their autoencoder loss rescaled by the probabilites estimated by classifier\n",
    "    kl_unlabled_loss = (-0.5 * K.sum(1 + log_std_unlabeled - K.square(mu_unlabeled) - K.exp(log_std_unlabeled),axis=-1))\n",
    "    autoencoder_unlabled_loss = 0.0\n",
    "    for i in range(0,num_cls):\n",
    "        curr_loss = K.mean((mse(K.batch_flatten(input_unlabeled),K.batch_flatten(unlabel_reconst_vecs[i])) + kl_unlabled_loss) * y_pred_unlabel[:,i])\n",
    "        autoencoder_unlabled_loss = autoencoder_unlabled_loss + curr_loss\n",
    "    \n",
    "    # combine all losses\n",
    "    total_loss = classification_loss + 0.5* (autoencoder_labeled_loss + autoencoder_unlabled_loss)\n",
    "    mdl.add_loss(total_loss)\n",
    "        \n",
    "    return mdl"
   ]
  },
  {
   "cell_type": "code",
   "execution_count": 50,
   "metadata": {},
   "outputs": [],
   "source": [
    "mdl = build_m1_m2_model()\n",
    "mdl.compile(optimizer='adam')"
   ]
  },
  {
   "cell_type": "code",
   "execution_count": 51,
   "metadata": {},
   "outputs": [
    {
     "name": "stdout",
     "output_type": "stream",
     "text": [
      "__________________________________________________________________________________________________\n",
      "Layer (type)                    Output Shape         Param #     Connected to                     \n",
      "==================================================================================================\n",
      "input_12 (InputLayer)           (None, 82275)        0                                            \n",
      "__________________________________________________________________________________________________\n",
      "input_13 (InputLayer)           (None, 82275)        0                                            \n",
      "__________________________________________________________________________________________________\n",
      "encoder (Model)                 [(None, 32), (None,  42206208    input_12[0][0]                   \n",
      "                                                                 input_13[0][0]                   \n",
      "__________________________________________________________________________________________________\n",
      "input_14 (InputLayer)           (None, 2)            0                                            \n",
      "__________________________________________________________________________________________________\n",
      "concatenate_1 (Concatenate)     (None, 34)           0           encoder[1][0]                    \n",
      "                                                                 input_14[0][0]                   \n",
      "__________________________________________________________________________________________________\n",
      "lambda_2 (Lambda)               (None, 34)           0           encoder[2][0]                    \n",
      "__________________________________________________________________________________________________\n",
      "lambda_3 (Lambda)               (None, 34)           0           encoder[2][0]                    \n",
      "__________________________________________________________________________________________________\n",
      "classifier (Model)              (None, 2)            42202178    input_12[0][0]                   \n",
      "                                                                 input_13[0][0]                   \n",
      "__________________________________________________________________________________________________\n",
      "decoder (Model)                 (None, 82275)        42286499    concatenate_1[0][0]              \n",
      "                                                                 lambda_2[0][0]                   \n",
      "                                                                 lambda_3[0][0]                   \n",
      "__________________________________________________________________________________________________\n",
      "Classifier1 (Lambda)            (None, 2)            0           classifier[1][0]                 \n",
      "__________________________________________________________________________________________________\n",
      "Classifier2 (Lambda)            (None, 2)            0           classifier[2][0]                 \n",
      "__________________________________________________________________________________________________\n",
      "Autoencoder_Labeled (Lambda)    (None, 82275)        0           decoder[1][0]                    \n",
      "__________________________________________________________________________________________________\n",
      "Autoencoder0 (Lambda)           (None, 82275)        0           decoder[2][0]                    \n",
      "__________________________________________________________________________________________________\n",
      "Autoencoder1 (Lambda)           (None, 82275)        0           decoder[3][0]                    \n",
      "==================================================================================================\n",
      "Total params: 126,694,885\n",
      "Trainable params: 126,690,661\n",
      "Non-trainable params: 4,224\n",
      "__________________________________________________________________________________________________\n"
     ]
    }
   ],
   "source": [
    "mdl.summary()"
   ]
  },
  {
   "cell_type": "code",
   "execution_count": 52,
   "metadata": {},
   "outputs": [],
   "source": [
    "(X_train,X_valid,X_test,X_un),(y_train_categ,y_valid_categ,y_test) = build_dataset() "
   ]
  },
  {
   "cell_type": "code",
   "execution_count": 53,
   "metadata": {},
   "outputs": [
    {
     "ename": "ResourceExhaustedError",
     "evalue": "OOM when allocating tensor with shape[300,82275] and type float on /job:localhost/replica:0/task:0/device:GPU:0 by allocator GPU_0_bfc\n\t [[{{node Square_7}}]]\nHint: If you want to see a list of allocated tensors when OOM happens, add report_tensor_allocations_upon_oom to RunOptions for current allocation info.\n\n\t [[{{node loss_3/add_6}}]]\nHint: If you want to see a list of allocated tensors when OOM happens, add report_tensor_allocations_upon_oom to RunOptions for current allocation info.\n",
     "output_type": "error",
     "traceback": [
      "\u001b[0;31m---------------------------------------------------------------------------\u001b[0m",
      "\u001b[0;31mResourceExhaustedError\u001b[0m                    Traceback (most recent call last)",
      "\u001b[0;32m<ipython-input-53-0a54e3bf8dff>\u001b[0m in \u001b[0;36m<module>\u001b[0;34m()\u001b[0m\n\u001b[1;32m      4\u001b[0m     \u001b[0mbatch_loss\u001b[0m \u001b[0;34m=\u001b[0m \u001b[0;34m[\u001b[0m\u001b[0;34m]\u001b[0m\u001b[0;34m\u001b[0m\u001b[0m\n\u001b[1;32m      5\u001b[0m     \u001b[0;32mfor\u001b[0m \u001b[0mbatch_samples\u001b[0m\u001b[0;34m,\u001b[0m\u001b[0mbatch_targets\u001b[0m\u001b[0;34m,\u001b[0m\u001b[0mbatch_un\u001b[0m \u001b[0;32min\u001b[0m \u001b[0mget_train_batch\u001b[0m\u001b[0;34m(\u001b[0m\u001b[0mX_train\u001b[0m\u001b[0;34m,\u001b[0m\u001b[0my_train_categ\u001b[0m\u001b[0;34m,\u001b[0m\u001b[0mX_un\u001b[0m\u001b[0;34m)\u001b[0m\u001b[0;34m:\u001b[0m\u001b[0;34m\u001b[0m\u001b[0m\n\u001b[0;32m----> 6\u001b[0;31m         \u001b[0mbatch_res\u001b[0m \u001b[0;34m=\u001b[0m \u001b[0mmdl\u001b[0m\u001b[0;34m.\u001b[0m\u001b[0mtrain_on_batch\u001b[0m\u001b[0;34m(\u001b[0m\u001b[0;34m[\u001b[0m\u001b[0mbatch_samples\u001b[0m\u001b[0;34m.\u001b[0m\u001b[0mtodense\u001b[0m\u001b[0;34m(\u001b[0m\u001b[0;34m)\u001b[0m\u001b[0;34m,\u001b[0m\u001b[0mbatch_un\u001b[0m\u001b[0;34m.\u001b[0m\u001b[0mtodense\u001b[0m\u001b[0;34m(\u001b[0m\u001b[0;34m)\u001b[0m\u001b[0;34m,\u001b[0m\u001b[0mbatch_targets\u001b[0m\u001b[0;34m]\u001b[0m\u001b[0;34m,\u001b[0m\u001b[0mNone\u001b[0m\u001b[0;34m)\u001b[0m\u001b[0;34m\u001b[0m\u001b[0m\n\u001b[0m\u001b[1;32m      7\u001b[0m         \u001b[0mbatch_loss\u001b[0m\u001b[0;34m.\u001b[0m\u001b[0mappend\u001b[0m\u001b[0;34m(\u001b[0m\u001b[0mbatch_res\u001b[0m\u001b[0;34m)\u001b[0m\u001b[0;34m\u001b[0m\u001b[0m\n\u001b[1;32m      8\u001b[0m     \u001b[0mtrain_loss\u001b[0m\u001b[0;34m.\u001b[0m\u001b[0mappend\u001b[0m\u001b[0;34m(\u001b[0m\u001b[0mnp\u001b[0m\u001b[0;34m.\u001b[0m\u001b[0mmean\u001b[0m\u001b[0;34m(\u001b[0m\u001b[0mbatch_loss\u001b[0m\u001b[0;34m)\u001b[0m\u001b[0;34m)\u001b[0m\u001b[0;34m\u001b[0m\u001b[0m\n",
      "\u001b[0;32m/home/omar/anaconda2/lib/python2.7/site-packages/keras/engine/training.pyc\u001b[0m in \u001b[0;36mtrain_on_batch\u001b[0;34m(self, x, y, sample_weight, class_weight)\u001b[0m\n\u001b[1;32m   1215\u001b[0m             \u001b[0mins\u001b[0m \u001b[0;34m=\u001b[0m \u001b[0mx\u001b[0m \u001b[0;34m+\u001b[0m \u001b[0my\u001b[0m \u001b[0;34m+\u001b[0m \u001b[0msample_weights\u001b[0m\u001b[0;34m\u001b[0m\u001b[0m\n\u001b[1;32m   1216\u001b[0m         \u001b[0mself\u001b[0m\u001b[0;34m.\u001b[0m\u001b[0m_make_train_function\u001b[0m\u001b[0;34m(\u001b[0m\u001b[0;34m)\u001b[0m\u001b[0;34m\u001b[0m\u001b[0m\n\u001b[0;32m-> 1217\u001b[0;31m         \u001b[0moutputs\u001b[0m \u001b[0;34m=\u001b[0m \u001b[0mself\u001b[0m\u001b[0;34m.\u001b[0m\u001b[0mtrain_function\u001b[0m\u001b[0;34m(\u001b[0m\u001b[0mins\u001b[0m\u001b[0;34m)\u001b[0m\u001b[0;34m\u001b[0m\u001b[0m\n\u001b[0m\u001b[1;32m   1218\u001b[0m         \u001b[0;32mreturn\u001b[0m \u001b[0munpack_singleton\u001b[0m\u001b[0;34m(\u001b[0m\u001b[0moutputs\u001b[0m\u001b[0;34m)\u001b[0m\u001b[0;34m\u001b[0m\u001b[0m\n\u001b[1;32m   1219\u001b[0m \u001b[0;34m\u001b[0m\u001b[0m\n",
      "\u001b[0;32m/home/omar/anaconda2/lib/python2.7/site-packages/keras/backend/tensorflow_backend.pyc\u001b[0m in \u001b[0;36m__call__\u001b[0;34m(self, inputs)\u001b[0m\n\u001b[1;32m   2713\u001b[0m                 \u001b[0;32mreturn\u001b[0m \u001b[0mself\u001b[0m\u001b[0;34m.\u001b[0m\u001b[0m_legacy_call\u001b[0m\u001b[0;34m(\u001b[0m\u001b[0minputs\u001b[0m\u001b[0;34m)\u001b[0m\u001b[0;34m\u001b[0m\u001b[0m\n\u001b[1;32m   2714\u001b[0m \u001b[0;34m\u001b[0m\u001b[0m\n\u001b[0;32m-> 2715\u001b[0;31m             \u001b[0;32mreturn\u001b[0m \u001b[0mself\u001b[0m\u001b[0;34m.\u001b[0m\u001b[0m_call\u001b[0m\u001b[0;34m(\u001b[0m\u001b[0minputs\u001b[0m\u001b[0;34m)\u001b[0m\u001b[0;34m\u001b[0m\u001b[0m\n\u001b[0m\u001b[1;32m   2716\u001b[0m         \u001b[0;32melse\u001b[0m\u001b[0;34m:\u001b[0m\u001b[0;34m\u001b[0m\u001b[0m\n\u001b[1;32m   2717\u001b[0m             \u001b[0;32mif\u001b[0m \u001b[0mpy_any\u001b[0m\u001b[0;34m(\u001b[0m\u001b[0mis_tensor\u001b[0m\u001b[0;34m(\u001b[0m\u001b[0mx\u001b[0m\u001b[0;34m)\u001b[0m \u001b[0;32mfor\u001b[0m \u001b[0mx\u001b[0m \u001b[0;32min\u001b[0m \u001b[0minputs\u001b[0m\u001b[0;34m)\u001b[0m\u001b[0;34m:\u001b[0m\u001b[0;34m\u001b[0m\u001b[0m\n",
      "\u001b[0;32m/home/omar/anaconda2/lib/python2.7/site-packages/keras/backend/tensorflow_backend.pyc\u001b[0m in \u001b[0;36m_call\u001b[0;34m(self, inputs)\u001b[0m\n\u001b[1;32m   2673\u001b[0m             \u001b[0mfetched\u001b[0m \u001b[0;34m=\u001b[0m \u001b[0mself\u001b[0m\u001b[0;34m.\u001b[0m\u001b[0m_callable_fn\u001b[0m\u001b[0;34m(\u001b[0m\u001b[0;34m*\u001b[0m\u001b[0marray_vals\u001b[0m\u001b[0;34m,\u001b[0m \u001b[0mrun_metadata\u001b[0m\u001b[0;34m=\u001b[0m\u001b[0mself\u001b[0m\u001b[0;34m.\u001b[0m\u001b[0mrun_metadata\u001b[0m\u001b[0;34m)\u001b[0m\u001b[0;34m\u001b[0m\u001b[0m\n\u001b[1;32m   2674\u001b[0m         \u001b[0;32melse\u001b[0m\u001b[0;34m:\u001b[0m\u001b[0;34m\u001b[0m\u001b[0m\n\u001b[0;32m-> 2675\u001b[0;31m             \u001b[0mfetched\u001b[0m \u001b[0;34m=\u001b[0m \u001b[0mself\u001b[0m\u001b[0;34m.\u001b[0m\u001b[0m_callable_fn\u001b[0m\u001b[0;34m(\u001b[0m\u001b[0;34m*\u001b[0m\u001b[0marray_vals\u001b[0m\u001b[0;34m)\u001b[0m\u001b[0;34m\u001b[0m\u001b[0m\n\u001b[0m\u001b[1;32m   2676\u001b[0m         \u001b[0;32mreturn\u001b[0m \u001b[0mfetched\u001b[0m\u001b[0;34m[\u001b[0m\u001b[0;34m:\u001b[0m\u001b[0mlen\u001b[0m\u001b[0;34m(\u001b[0m\u001b[0mself\u001b[0m\u001b[0;34m.\u001b[0m\u001b[0moutputs\u001b[0m\u001b[0;34m)\u001b[0m\u001b[0;34m]\u001b[0m\u001b[0;34m\u001b[0m\u001b[0m\n\u001b[1;32m   2677\u001b[0m \u001b[0;34m\u001b[0m\u001b[0m\n",
      "\u001b[0;32m/home/omar/anaconda2/lib/python2.7/site-packages/tensorflow/python/client/session.pyc\u001b[0m in \u001b[0;36m__call__\u001b[0;34m(self, *args, **kwargs)\u001b[0m\n\u001b[1;32m   1437\u001b[0m           ret = tf_session.TF_SessionRunCallable(\n\u001b[1;32m   1438\u001b[0m               \u001b[0mself\u001b[0m\u001b[0;34m.\u001b[0m\u001b[0m_session\u001b[0m\u001b[0;34m.\u001b[0m\u001b[0m_session\u001b[0m\u001b[0;34m,\u001b[0m \u001b[0mself\u001b[0m\u001b[0;34m.\u001b[0m\u001b[0m_handle\u001b[0m\u001b[0;34m,\u001b[0m \u001b[0margs\u001b[0m\u001b[0;34m,\u001b[0m \u001b[0mstatus\u001b[0m\u001b[0;34m,\u001b[0m\u001b[0;34m\u001b[0m\u001b[0m\n\u001b[0;32m-> 1439\u001b[0;31m               run_metadata_ptr)\n\u001b[0m\u001b[1;32m   1440\u001b[0m         \u001b[0;32mif\u001b[0m \u001b[0mrun_metadata\u001b[0m\u001b[0;34m:\u001b[0m\u001b[0;34m\u001b[0m\u001b[0m\n\u001b[1;32m   1441\u001b[0m           \u001b[0mproto_data\u001b[0m \u001b[0;34m=\u001b[0m \u001b[0mtf_session\u001b[0m\u001b[0;34m.\u001b[0m\u001b[0mTF_GetBuffer\u001b[0m\u001b[0;34m(\u001b[0m\u001b[0mrun_metadata_ptr\u001b[0m\u001b[0;34m)\u001b[0m\u001b[0;34m\u001b[0m\u001b[0m\n",
      "\u001b[0;32m/home/omar/anaconda2/lib/python2.7/site-packages/tensorflow/python/framework/errors_impl.pyc\u001b[0m in \u001b[0;36m__exit__\u001b[0;34m(self, type_arg, value_arg, traceback_arg)\u001b[0m\n\u001b[1;32m    526\u001b[0m             \u001b[0mNone\u001b[0m\u001b[0;34m,\u001b[0m \u001b[0mNone\u001b[0m\u001b[0;34m,\u001b[0m\u001b[0;34m\u001b[0m\u001b[0m\n\u001b[1;32m    527\u001b[0m             \u001b[0mcompat\u001b[0m\u001b[0;34m.\u001b[0m\u001b[0mas_text\u001b[0m\u001b[0;34m(\u001b[0m\u001b[0mc_api\u001b[0m\u001b[0;34m.\u001b[0m\u001b[0mTF_Message\u001b[0m\u001b[0;34m(\u001b[0m\u001b[0mself\u001b[0m\u001b[0;34m.\u001b[0m\u001b[0mstatus\u001b[0m\u001b[0;34m.\u001b[0m\u001b[0mstatus\u001b[0m\u001b[0;34m)\u001b[0m\u001b[0;34m)\u001b[0m\u001b[0;34m,\u001b[0m\u001b[0;34m\u001b[0m\u001b[0m\n\u001b[0;32m--> 528\u001b[0;31m             c_api.TF_GetCode(self.status.status))\n\u001b[0m\u001b[1;32m    529\u001b[0m     \u001b[0;31m# Delete the underlying status object from memory otherwise it stays alive\u001b[0m\u001b[0;34m\u001b[0m\u001b[0;34m\u001b[0m\u001b[0m\n\u001b[1;32m    530\u001b[0m     \u001b[0;31m# as there is a reference to status from this from the traceback due to\u001b[0m\u001b[0;34m\u001b[0m\u001b[0;34m\u001b[0m\u001b[0m\n",
      "\u001b[0;31mResourceExhaustedError\u001b[0m: OOM when allocating tensor with shape[300,82275] and type float on /job:localhost/replica:0/task:0/device:GPU:0 by allocator GPU_0_bfc\n\t [[{{node Square_7}}]]\nHint: If you want to see a list of allocated tensors when OOM happens, add report_tensor_allocations_upon_oom to RunOptions for current allocation info.\n\n\t [[{{node loss_3/add_6}}]]\nHint: If you want to see a list of allocated tensors when OOM happens, add report_tensor_allocations_upon_oom to RunOptions for current allocation info.\n"
     ]
    }
   ],
   "source": [
    "train_loss,val_loss = [],[]\n",
    "for epoch in range(0,100):\n",
    "    \n",
    "    batch_loss = []\n",
    "    for batch_samples,batch_targets,batch_un in get_train_batch(X_train,y_train_categ,X_un):\n",
    "        batch_res = mdl.train_on_batch([batch_samples.todense(),batch_un.todense(),batch_targets],None)\n",
    "        batch_loss.append(batch_res)\n",
    "    train_loss.append(np.mean(batch_loss))\n",
    "        \n",
    "    val_eval = mdl.evaluate([X_valid,X_valid,y_valid_categ],None,verbose=0)  \n",
    "    val_loss.append(val_eval)\n",
    "    print('Validation Loss => {}'.format(val_eval))"
   ]
  },
  {
   "cell_type": "code",
   "execution_count": null,
   "metadata": {},
   "outputs": [],
   "source": [
    "plot_metric(train_loss,valid_loss,'Loss')"
   ]
  },
  {
   "cell_type": "code",
   "execution_count": null,
   "metadata": {},
   "outputs": [],
   "source": []
  },
  {
   "cell_type": "code",
   "execution_count": null,
   "metadata": {},
   "outputs": [],
   "source": []
  },
  {
   "cell_type": "code",
   "execution_count": null,
   "metadata": {},
   "outputs": [],
   "source": []
  },
  {
   "cell_type": "code",
   "execution_count": null,
   "metadata": {},
   "outputs": [],
   "source": []
  },
  {
   "cell_type": "code",
   "execution_count": null,
   "metadata": {},
   "outputs": [],
   "source": []
  },
  {
   "cell_type": "code",
   "execution_count": null,
   "metadata": {},
   "outputs": [],
   "source": []
  }
 ],
 "metadata": {
  "kernelspec": {
   "display_name": "Python 2",
   "language": "python",
   "name": "python2"
  },
  "language_info": {
   "codemirror_mode": {
    "name": "ipython",
    "version": 2
   },
   "file_extension": ".py",
   "mimetype": "text/x-python",
   "name": "python",
   "nbconvert_exporter": "python",
   "pygments_lexer": "ipython2",
   "version": "2.7.15"
  }
 },
 "nbformat": 4,
 "nbformat_minor": 2
}
